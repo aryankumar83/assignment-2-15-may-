{
 "cells": [
  {
   "cell_type": "code",
   "execution_count": 1,
   "id": "ea4211ec",
   "metadata": {},
   "outputs": [
    {
     "data": {
      "text/plain": [
       "'multi\\nline\\ncomment'"
      ]
     },
     "execution_count": 1,
     "metadata": {},
     "output_type": "execute_result"
    }
   ],
   "source": [
    "# que 1 :\n",
    "# comments are statement in code that does not execute but gives idea about code to the viewer.\n",
    "# there are two types of coments in python :\n",
    "# single line comment\n",
    "\"\"\"multi\n",
    "line\n",
    "comment\"\"\"\n"
   ]
  },
  {
   "cell_type": "code",
   "execution_count": 2,
   "id": "36abd2c0",
   "metadata": {},
   "outputs": [
    {
     "data": {
      "text/plain": [
       "'Python has no command for declaring a variable.\\nA variable is created when some value is assigned to it.\\nThe value assigned to a variable determines the data type of that variable.'"
      ]
     },
     "execution_count": 2,
     "metadata": {},
     "output_type": "execute_result"
    }
   ],
   "source": [
    "# que 2 :\n",
    "#a variable is string of characters and numbers associated with a piece of information\n",
    "\"\"\"Python has no command for declaring a variable.\n",
    "A variable is created when some value is assigned to it.\n",
    "The value assigned to a variable determines the data type of that variable.\"\"\""
   ]
  },
  {
   "cell_type": "code",
   "execution_count": 3,
   "id": "ffd9da6c",
   "metadata": {},
   "outputs": [
    {
     "name": "stdout",
     "output_type": "stream",
     "text": [
      "4.0\n"
     ]
    }
   ],
   "source": [
    "# que 3 : \n",
    "# to convert one data type to another we use typecasting that is shown below : \n",
    "i = 4\n",
    "f = float(i)\n",
    "print(f)"
   ]
  },
  {
   "cell_type": "code",
   "execution_count": 4,
   "id": "4d7b052e",
   "metadata": {},
   "outputs": [],
   "source": [
    "# que 4 : \n",
    "# to write and execute a Python script from the command line.\n",
    "# open a command line and type the word python followed by the path to your script file and hit the enter button."
   ]
  },
  {
   "cell_type": "code",
   "execution_count": 5,
   "id": "1e6ca591",
   "metadata": {},
   "outputs": [
    {
     "data": {
      "text/plain": [
       "[3]"
      ]
     },
     "execution_count": 5,
     "metadata": {},
     "output_type": "execute_result"
    }
   ],
   "source": [
    "# que 5 :\n",
    "my_list = [1, 2, 3, 4, 5]\n",
    "my_list[2:3]"
   ]
  },
  {
   "cell_type": "code",
   "execution_count": 6,
   "id": "11908991",
   "metadata": {},
   "outputs": [],
   "source": [
    "# que 6 : \n",
    "# in mathematics A complex number is a number that can be expressed in the form of a + ib where a represents the real part, and b is the imaginary part;\n",
    "# in python complex number is represented as a + bj where a represents real part and b represents imaginary part."
   ]
  },
  {
   "cell_type": "code",
   "execution_count": 7,
   "id": "30dc688f",
   "metadata": {},
   "outputs": [],
   "source": [
    "# que 7 :\n",
    "age = 25"
   ]
  },
  {
   "cell_type": "code",
   "execution_count": 8,
   "id": "651310b9",
   "metadata": {},
   "outputs": [
    {
     "data": {
      "text/plain": [
       "float"
      ]
     },
     "execution_count": 8,
     "metadata": {},
     "output_type": "execute_result"
    }
   ],
   "source": [
    "# que 8 :\n",
    "price = 9.99\n",
    "type(price)"
   ]
  },
  {
   "cell_type": "code",
   "execution_count": 9,
   "id": "1eae0a11",
   "metadata": {},
   "outputs": [
    {
     "name": "stdout",
     "output_type": "stream",
     "text": [
      "aryan kumar\n"
     ]
    }
   ],
   "source": [
    "# que 9 :\n",
    "name = \"aryan kumar\"\n",
    "print(name)"
   ]
  },
  {
   "cell_type": "code",
   "execution_count": 11,
   "id": "9b6951a3",
   "metadata": {},
   "outputs": [
    {
     "data": {
      "text/plain": [
       "'World'"
      ]
     },
     "execution_count": 11,
     "metadata": {},
     "output_type": "execute_result"
    }
   ],
   "source": [
    "# que 10 :\n",
    "str = \"Hello, World!\"\n",
    "str[7:12]"
   ]
  },
  {
   "cell_type": "code",
   "execution_count": 13,
   "id": "ffb7be82",
   "metadata": {},
   "outputs": [],
   "source": [
    "# que 11 :\n",
    "is_student = True"
   ]
  },
  {
   "cell_type": "code",
   "execution_count": null,
   "id": "d0e16cbe",
   "metadata": {},
   "outputs": [],
   "source": []
  }
 ],
 "metadata": {
  "kernelspec": {
   "display_name": "Python 3 (ipykernel)",
   "language": "python",
   "name": "python3"
  },
  "language_info": {
   "codemirror_mode": {
    "name": "ipython",
    "version": 3
   },
   "file_extension": ".py",
   "mimetype": "text/x-python",
   "name": "python",
   "nbconvert_exporter": "python",
   "pygments_lexer": "ipython3",
   "version": "3.10.9"
  }
 },
 "nbformat": 4,
 "nbformat_minor": 5
}
